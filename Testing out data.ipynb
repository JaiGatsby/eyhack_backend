{
 "cells": [
  {
   "cell_type": "code",
   "execution_count": 19,
   "metadata": {
    "collapsed": true
   },
   "outputs": [],
   "source": [
    "import pandas as pd\n",
    "from sklearn import preprocessing"
   ]
  },
  {
   "cell_type": "code",
   "execution_count": 7,
   "metadata": {
    "collapsed": false
   },
   "outputs": [],
   "source": [
    "df = pd.read_csv(\"Data/ticket.csv\", delimiter=\"\\t\")"
   ]
  },
  {
   "cell_type": "code",
   "execution_count": 8,
   "metadata": {
    "collapsed": false
   },
   "outputs": [
    {
     "data": {
      "text/html": [
       "<div>\n",
       "<table border=\"1\" class=\"dataframe\">\n",
       "  <thead>\n",
       "    <tr style=\"text-align: right;\">\n",
       "      <th></th>\n",
       "      <th>REST_ID</th>\n",
       "      <th>TIME SECTION</th>\n",
       "      <th>TABLE SIZE</th>\n",
       "      <th>TICKET</th>\n",
       "      <th>TABLE TYPE</th>\n",
       "      <th>TICKET NUM</th>\n",
       "      <th>CHANNEL</th>\n",
       "      <th>CREATE TIME</th>\n",
       "      <th>CHECKINTIME</th>\n",
       "      <th>STATUS</th>\n",
       "    </tr>\n",
       "  </thead>\n",
       "  <tbody>\n",
       "    <tr>\n",
       "      <th>0</th>\n",
       "      <td>113442</td>\n",
       "      <td>A</td>\n",
       "      <td>5</td>\n",
       "      <td>C001</td>\n",
       "      <td>C</td>\n",
       "      <td>1</td>\n",
       "      <td>KIOSK</td>\n",
       "      <td>2016-01-01 11:09:19.000</td>\n",
       "      <td>2016-01-01 11:16:41</td>\n",
       "      <td>A</td>\n",
       "    </tr>\n",
       "    <tr>\n",
       "      <th>1</th>\n",
       "      <td>113442</td>\n",
       "      <td>A</td>\n",
       "      <td>4</td>\n",
       "      <td>B001</td>\n",
       "      <td>B</td>\n",
       "      <td>1</td>\n",
       "      <td>KIOSK</td>\n",
       "      <td>2016-01-01 11:15:45.000</td>\n",
       "      <td>2016-01-01 11:16:40</td>\n",
       "      <td>A</td>\n",
       "    </tr>\n",
       "    <tr>\n",
       "      <th>2</th>\n",
       "      <td>113442</td>\n",
       "      <td>A</td>\n",
       "      <td>2</td>\n",
       "      <td>A001</td>\n",
       "      <td>A</td>\n",
       "      <td>1</td>\n",
       "      <td>KIOSK</td>\n",
       "      <td>2016-01-01 11:17:11.000</td>\n",
       "      <td>2016-01-01 11:17:21</td>\n",
       "      <td>A</td>\n",
       "    </tr>\n",
       "    <tr>\n",
       "      <th>3</th>\n",
       "      <td>113442</td>\n",
       "      <td>A</td>\n",
       "      <td>2</td>\n",
       "      <td>A002</td>\n",
       "      <td>A</td>\n",
       "      <td>2</td>\n",
       "      <td>KIOSK</td>\n",
       "      <td>2016-01-01 11:34:41.000</td>\n",
       "      <td>2016-01-01 11:34:53</td>\n",
       "      <td>A</td>\n",
       "    </tr>\n",
       "    <tr>\n",
       "      <th>4</th>\n",
       "      <td>113442</td>\n",
       "      <td>A</td>\n",
       "      <td>5</td>\n",
       "      <td>C002</td>\n",
       "      <td>C</td>\n",
       "      <td>2</td>\n",
       "      <td>KIOSK</td>\n",
       "      <td>2016-01-01 11:51:00.000</td>\n",
       "      <td>2016-01-01 12:00:36</td>\n",
       "      <td>A</td>\n",
       "    </tr>\n",
       "  </tbody>\n",
       "</table>\n",
       "</div>"
      ],
      "text/plain": [
       "   REST_ID TIME SECTION  TABLE SIZE TICKET TABLE TYPE  TICKET NUM CHANNEL  \\\n",
       "0   113442            A           5   C001          C           1   KIOSK   \n",
       "1   113442            A           4   B001          B           1   KIOSK   \n",
       "2   113442            A           2   A001          A           1   KIOSK   \n",
       "3   113442            A           2   A002          A           2   KIOSK   \n",
       "4   113442            A           5   C002          C           2   KIOSK   \n",
       "\n",
       "               CREATE TIME          CHECKINTIME STATUS  \n",
       "0  2016-01-01 11:09:19.000  2016-01-01 11:16:41      A  \n",
       "1  2016-01-01 11:15:45.000  2016-01-01 11:16:40      A  \n",
       "2  2016-01-01 11:17:11.000  2016-01-01 11:17:21      A  \n",
       "3  2016-01-01 11:34:41.000  2016-01-01 11:34:53      A  \n",
       "4  2016-01-01 11:51:00.000  2016-01-01 12:00:36      A  "
      ]
     },
     "execution_count": 8,
     "metadata": {},
     "output_type": "execute_result"
    }
   ],
   "source": [
    "df.head(5)"
   ]
  },
  {
   "cell_type": "code",
   "execution_count": 29,
   "metadata": {
    "collapsed": false
   },
   "outputs": [
    {
     "name": "stdout",
     "output_type": "stream",
     "text": [
      "2016 01 01\n",
      "11 09 19\n",
      "9.316666666666666\n",
      "11.155277777777778\n"
     ]
    }
   ],
   "source": [
    "## Testing out handling dates\n",
    "a,b = df[\"CREATE TIME\"][0].split()\n",
    "yy,mm,dd = a.split('-')\n",
    "print(yy,mm,dd)\n",
    "# print(b)\n",
    "h, m, s = b.split(':')\n",
    "print(h,m,int(float(s)))\n",
    "m = int(m) +  float(s)/60\n",
    "print(m)\n",
    "h = int(h) + m/60\n",
    "print(h)"
   ]
  },
  {
   "cell_type": "code",
   "execution_count": 26,
   "metadata": {
    "collapsed": false
   },
   "outputs": [
    {
     "data": {
      "text/plain": [
       "array([0, 0, 1, 0, 0, 0, 0, 0, 0, 0, 0, 0])"
      ]
     },
     "execution_count": 26,
     "metadata": {},
     "output_type": "execute_result"
    }
   ],
   "source": [
    "lb = preprocessing.LabelBinarizer()\n",
    "lb.fit(['01','02','03','04','05','06','07','08','09','10','11','12'])\n",
    "lb.transform(['03'])[0]"
   ]
  },
  {
   "cell_type": "code",
   "execution_count": 31,
   "metadata": {
    "collapsed": true
   },
   "outputs": [],
   "source": [
    "def handleDate(DT, table, label):\n",
    "    date, time = DT.split()\n",
    "    yr, mth, dd = date.split('-')\n",
    "    mth = lb.transform([mth])[0]\n",
    "    hr, mn, sec = time.split()\n",
    "    mn = int(mn) + float(sec)/60\n",
    "    hr = int(hr) + mn/60\n",
    "    table[label + \"Month\"].append(mth)\n",
    "    table[label + \"Data\"].append(mth)"
   ]
  },
  {
   "cell_type": "code",
   "execution_count": null,
   "metadata": {
    "collapsed": true
   },
   "outputs": [],
   "source": []
  }
 ],
 "metadata": {
  "kernelspec": {
   "display_name": "Python 3",
   "language": "python",
   "name": "python3"
  },
  "language_info": {
   "codemirror_mode": {
    "name": "ipython",
    "version": 3
   },
   "file_extension": ".py",
   "mimetype": "text/x-python",
   "name": "python",
   "nbconvert_exporter": "python",
   "pygments_lexer": "ipython3",
   "version": "3.6.0"
  }
 },
 "nbformat": 4,
 "nbformat_minor": 2
}
