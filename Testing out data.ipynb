{
 "cells": [
  {
   "cell_type": "code",
   "execution_count": 19,
   "metadata": {
    "collapsed": true
   },
   "outputs": [],
   "source": [
    "import pandas as pd\n",
    "from sklearn import preprocessing"
   ]
  },
  {
   "cell_type": "code",
   "execution_count": 7,
   "metadata": {
    "collapsed": false
   },
   "outputs": [],
   "source": [
    "df = pd.read_csv(\"Data/ticket.csv\", delimiter=\"\\t\")"
   ]
  },
  {
   "cell_type": "code",
   "execution_count": 33,
   "metadata": {
    "collapsed": false
   },
   "outputs": [
    {
     "data": {
      "text/html": [
       "<div>\n",
       "<table border=\"1\" class=\"dataframe\">\n",
       "  <thead>\n",
       "    <tr style=\"text-align: right;\">\n",
       "      <th></th>\n",
       "      <th>REST_ID</th>\n",
       "      <th>TIME SECTION</th>\n",
       "      <th>TABLE SIZE</th>\n",
       "      <th>TICKET</th>\n",
       "      <th>TABLE TYPE</th>\n",
       "      <th>TICKET NUM</th>\n",
       "      <th>CHANNEL</th>\n",
       "      <th>CREATE TIME</th>\n",
       "      <th>CHECKINTIME</th>\n",
       "      <th>STATUS</th>\n",
       "    </tr>\n",
       "  </thead>\n",
       "  <tbody>\n",
       "    <tr>\n",
       "      <th>0</th>\n",
       "      <td>113442</td>\n",
       "      <td>A</td>\n",
       "      <td>5</td>\n",
       "      <td>C001</td>\n",
       "      <td>C</td>\n",
       "      <td>1</td>\n",
       "      <td>KIOSK</td>\n",
       "      <td>2016-01-01 11:09:19.000</td>\n",
       "      <td>2016-01-01 11:16:41</td>\n",
       "      <td>A</td>\n",
       "    </tr>\n",
       "    <tr>\n",
       "      <th>1</th>\n",
       "      <td>113442</td>\n",
       "      <td>A</td>\n",
       "      <td>4</td>\n",
       "      <td>B001</td>\n",
       "      <td>B</td>\n",
       "      <td>1</td>\n",
       "      <td>KIOSK</td>\n",
       "      <td>2016-01-01 11:15:45.000</td>\n",
       "      <td>2016-01-01 11:16:40</td>\n",
       "      <td>A</td>\n",
       "    </tr>\n",
       "    <tr>\n",
       "      <th>2</th>\n",
       "      <td>113442</td>\n",
       "      <td>A</td>\n",
       "      <td>2</td>\n",
       "      <td>A001</td>\n",
       "      <td>A</td>\n",
       "      <td>1</td>\n",
       "      <td>KIOSK</td>\n",
       "      <td>2016-01-01 11:17:11.000</td>\n",
       "      <td>2016-01-01 11:17:21</td>\n",
       "      <td>A</td>\n",
       "    </tr>\n",
       "    <tr>\n",
       "      <th>3</th>\n",
       "      <td>113442</td>\n",
       "      <td>A</td>\n",
       "      <td>2</td>\n",
       "      <td>A002</td>\n",
       "      <td>A</td>\n",
       "      <td>2</td>\n",
       "      <td>KIOSK</td>\n",
       "      <td>2016-01-01 11:34:41.000</td>\n",
       "      <td>2016-01-01 11:34:53</td>\n",
       "      <td>A</td>\n",
       "    </tr>\n",
       "    <tr>\n",
       "      <th>4</th>\n",
       "      <td>113442</td>\n",
       "      <td>A</td>\n",
       "      <td>5</td>\n",
       "      <td>C002</td>\n",
       "      <td>C</td>\n",
       "      <td>2</td>\n",
       "      <td>KIOSK</td>\n",
       "      <td>2016-01-01 11:51:00.000</td>\n",
       "      <td>2016-01-01 12:00:36</td>\n",
       "      <td>A</td>\n",
       "    </tr>\n",
       "  </tbody>\n",
       "</table>\n",
       "</div>"
      ],
      "text/plain": [
       "   REST_ID TIME SECTION  TABLE SIZE TICKET TABLE TYPE  TICKET NUM CHANNEL  \\\n",
       "0   113442            A           5   C001          C           1   KIOSK   \n",
       "1   113442            A           4   B001          B           1   KIOSK   \n",
       "2   113442            A           2   A001          A           1   KIOSK   \n",
       "3   113442            A           2   A002          A           2   KIOSK   \n",
       "4   113442            A           5   C002          C           2   KIOSK   \n",
       "\n",
       "               CREATE TIME          CHECKINTIME STATUS  \n",
       "0  2016-01-01 11:09:19.000  2016-01-01 11:16:41      A  \n",
       "1  2016-01-01 11:15:45.000  2016-01-01 11:16:40      A  \n",
       "2  2016-01-01 11:17:11.000  2016-01-01 11:17:21      A  \n",
       "3  2016-01-01 11:34:41.000  2016-01-01 11:34:53      A  \n",
       "4  2016-01-01 11:51:00.000  2016-01-01 12:00:36      A  "
      ]
     },
     "execution_count": 33,
     "metadata": {},
     "output_type": "execute_result"
    }
   ],
   "source": [
    "df.head(5)"
   ]
  },
  {
   "cell_type": "code",
   "execution_count": 29,
   "metadata": {
    "collapsed": false
   },
   "outputs": [
    {
     "name": "stdout",
     "output_type": "stream",
     "text": [
      "2016 01 01\n",
      "11 09 19\n",
      "9.316666666666666\n",
      "11.155277777777778\n"
     ]
    }
   ],
   "source": [
    "## Testing out handling dates\n",
    "a,b = df[\"CREATE TIME\"][0].split()\n",
    "yy,mm,dd = a.split('-')\n",
    "print(yy,mm,dd)\n",
    "# print(b)\n",
    "h, m, s = b.split(':')\n",
    "print(h,m,int(float(s)))\n",
    "m = int(m) +  float(s)/60\n",
    "print(m)\n",
    "h = int(h) + m/60\n",
    "print(h)"
   ]
  },
  {
   "cell_type": "code",
   "execution_count": 26,
   "metadata": {
    "collapsed": false
   },
   "outputs": [
    {
     "data": {
      "text/plain": [
       "array([0, 0, 1, 0, 0, 0, 0, 0, 0, 0, 0, 0])"
      ]
     },
     "execution_count": 26,
     "metadata": {},
     "output_type": "execute_result"
    }
   ],
   "source": [
    "lb = preprocessing.LabelBinarizer()\n",
    "lb.fit(['01','02','03','04','05','06','07','08','09','10','11','12'])\n",
    "lb.transform(['03'])[0]"
   ]
  },
  {
   "cell_type": "code",
   "execution_count": 34,
   "metadata": {
    "collapsed": true
   },
   "outputs": [],
   "source": [
    "def handleDate(DT, table, label):\n",
    "    date, time = DT.split()\n",
    "    yr, mth, dd = date.split('-')\n",
    "    mth = lb.transform([mth])[0]\n",
    "    hr, mn, sec = time.split()\n",
    "    mn = int(mn) + float(sec)/60\n",
    "    hr = int(hr) + mn/60\n",
    "    table[label + \"_Month\"].append(mth)\n",
    "    table[label + \"_Date\"].append(dd)\n",
    "    table[label + \"_Hour\"].append(hr)"
   ]
  },
  {
   "cell_type": "code",
   "execution_count": 38,
   "metadata": {
    "collapsed": false
   },
   "outputs": [],
   "source": [
    "data = {key:val for key, val in df.items()}"
   ]
  },
  {
   "cell_type": "code",
   "execution_count": 39,
   "metadata": {
    "collapsed": false
   },
   "outputs": [
    {
     "data": {
      "text/plain": [
       "dict_keys(['REST_ID', 'TIME SECTION', 'TABLE SIZE', 'TICKET', 'TABLE TYPE', 'TICKET NUM', 'CHANNEL', 'CREATE TIME', 'CHECKINTIME', 'STATUS'])"
      ]
     },
     "execution_count": 39,
     "metadata": {},
     "output_type": "execute_result"
    }
   ],
   "source": [
    "data.keys()"
   ]
  },
  {
   "cell_type": "code",
   "execution_count": 45,
   "metadata": {
    "collapsed": false
   },
   "outputs": [
    {
     "data": {
      "text/html": [
       "<div>\n",
       "<table border=\"1\" class=\"dataframe\">\n",
       "  <thead>\n",
       "    <tr style=\"text-align: right;\">\n",
       "      <th></th>\n",
       "      <th>REST_ID</th>\n",
       "      <th>TIME SECTION</th>\n",
       "      <th>TABLE SIZE</th>\n",
       "      <th>TICKET</th>\n",
       "      <th>TABLE TYPE</th>\n",
       "      <th>TICKET NUM</th>\n",
       "      <th>CHANNEL</th>\n",
       "      <th>CREATE TIME</th>\n",
       "      <th>CHECKINTIME</th>\n",
       "      <th>STATUS</th>\n",
       "    </tr>\n",
       "  </thead>\n",
       "  <tbody>\n",
       "    <tr>\n",
       "      <th>153546</th>\n",
       "      <td>136888</td>\n",
       "      <td>A</td>\n",
       "      <td>2</td>\n",
       "      <td>A046</td>\n",
       "      <td>A</td>\n",
       "      <td>46</td>\n",
       "      <td>MOBILE</td>\n",
       "      <td>2016-12-31 13:08:59.122</td>\n",
       "      <td>2016-12-31 13:38:57</td>\n",
       "      <td>A</td>\n",
       "    </tr>\n",
       "    <tr>\n",
       "      <th>153549</th>\n",
       "      <td>136888</td>\n",
       "      <td>A</td>\n",
       "      <td>3</td>\n",
       "      <td>B042</td>\n",
       "      <td>B</td>\n",
       "      <td>42</td>\n",
       "      <td>KIOSK</td>\n",
       "      <td>2016-12-31 13:15:57.769</td>\n",
       "      <td>2016-12-31 13:37:40</td>\n",
       "      <td>A</td>\n",
       "    </tr>\n",
       "    <tr>\n",
       "      <th>153559</th>\n",
       "      <td>136888</td>\n",
       "      <td>A</td>\n",
       "      <td>3</td>\n",
       "      <td>B045</td>\n",
       "      <td>B</td>\n",
       "      <td>45</td>\n",
       "      <td>MOBILE</td>\n",
       "      <td>2016-12-31 13:29:17.877</td>\n",
       "      <td>2016-12-31 13:55:42</td>\n",
       "      <td>A</td>\n",
       "    </tr>\n",
       "    <tr>\n",
       "      <th>153564</th>\n",
       "      <td>136888</td>\n",
       "      <td>A</td>\n",
       "      <td>2</td>\n",
       "      <td>A056</td>\n",
       "      <td>A</td>\n",
       "      <td>56</td>\n",
       "      <td>KIOSK</td>\n",
       "      <td>2016-12-31 13:38:03.299</td>\n",
       "      <td>2016-12-31 14:04:30</td>\n",
       "      <td>A</td>\n",
       "    </tr>\n",
       "    <tr>\n",
       "      <th>153568</th>\n",
       "      <td>136888</td>\n",
       "      <td>A</td>\n",
       "      <td>3</td>\n",
       "      <td>B048</td>\n",
       "      <td>B</td>\n",
       "      <td>48</td>\n",
       "      <td>KIOSK</td>\n",
       "      <td>2016-12-31 13:46:27.807</td>\n",
       "      <td>2016-12-31 14:02:47</td>\n",
       "      <td>A</td>\n",
       "    </tr>\n",
       "    <tr>\n",
       "      <th>153575</th>\n",
       "      <td>136888</td>\n",
       "      <td>A</td>\n",
       "      <td>2</td>\n",
       "      <td>A064</td>\n",
       "      <td>A</td>\n",
       "      <td>64</td>\n",
       "      <td>KIOSK</td>\n",
       "      <td>2016-12-31 14:04:57.072</td>\n",
       "      <td>2016-12-31 14:21:34</td>\n",
       "      <td>A</td>\n",
       "    </tr>\n",
       "  </tbody>\n",
       "</table>\n",
       "</div>"
      ],
      "text/plain": [
       "        REST_ID TIME SECTION  TABLE SIZE TICKET TABLE TYPE  TICKET NUM  \\\n",
       "153546   136888            A           2   A046          A          46   \n",
       "153549   136888            A           3   B042          B          42   \n",
       "153559   136888            A           3   B045          B          45   \n",
       "153564   136888            A           2   A056          A          56   \n",
       "153568   136888            A           3   B048          B          48   \n",
       "153575   136888            A           2   A064          A          64   \n",
       "\n",
       "       CHANNEL              CREATE TIME          CHECKINTIME STATUS  \n",
       "153546  MOBILE  2016-12-31 13:08:59.122  2016-12-31 13:38:57      A  \n",
       "153549   KIOSK  2016-12-31 13:15:57.769  2016-12-31 13:37:40      A  \n",
       "153559  MOBILE  2016-12-31 13:29:17.877  2016-12-31 13:55:42      A  \n",
       "153564   KIOSK  2016-12-31 13:38:03.299  2016-12-31 14:04:30      A  \n",
       "153568   KIOSK  2016-12-31 13:46:27.807  2016-12-31 14:02:47      A  \n",
       "153575   KIOSK  2016-12-31 14:04:57.072  2016-12-31 14:21:34      A  "
      ]
     },
     "execution_count": 45,
     "metadata": {},
     "output_type": "execute_result"
    }
   ],
   "source": [
    "df2 = df.tail(50)\n",
    "df2.dropna()"
   ]
  },
  {
   "cell_type": "code",
   "execution_count": 2,
   "metadata": {
    "collapsed": false
   },
   "outputs": [],
   "source": [
    "from datetime import datetime"
   ]
  },
  {
   "cell_type": "code",
   "execution_count": 3,
   "metadata": {
    "collapsed": false
   },
   "outputs": [
    {
     "ename": "TypeError",
     "evalue": "an integer is required (got type str)",
     "output_type": "error",
     "traceback": [
      "\u001b[0;31m---------------------------------------------------------------------------\u001b[0m",
      "\u001b[0;31mTypeError\u001b[0m                                 Traceback (most recent call last)",
      "\u001b[0;32m<ipython-input-3-5b67d739915a>\u001b[0m in \u001b[0;36m<module>\u001b[0;34m()\u001b[0m\n\u001b[0;32m----> 1\u001b[0;31m \u001b[0md\u001b[0m \u001b[1;33m=\u001b[0m \u001b[0mdatetime\u001b[0m\u001b[1;33m(\u001b[0m\u001b[1;34m\"2016-12-31 13:08:59.122\"\u001b[0m\u001b[1;33m)\u001b[0m\u001b[1;33m\u001b[0m\u001b[0m\n\u001b[0m",
      "\u001b[0;31mTypeError\u001b[0m: an integer is required (got type str)"
     ]
    }
   ],
   "source": [
    "d = datetime(\"2016-12-31 13:08:59.122\")"
   ]
  }
 ],
 "metadata": {
  "kernelspec": {
   "display_name": "Python 3",
   "language": "python",
   "name": "python3"
  },
  "language_info": {
   "codemirror_mode": {
    "name": "ipython",
    "version": 3
   },
   "file_extension": ".py",
   "mimetype": "text/x-python",
   "name": "python",
   "nbconvert_exporter": "python",
   "pygments_lexer": "ipython3",
   "version": "3.6.0"
  }
 },
 "nbformat": 4,
 "nbformat_minor": 2
}
