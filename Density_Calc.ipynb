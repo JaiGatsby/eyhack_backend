{
 "cells": [
  {
   "cell_type": "code",
   "execution_count": 140,
   "metadata": {
    "collapsed": true
   },
   "outputs": [],
   "source": [
    "import pandas as pd\n",
    "from sklearn import preprocessing\n",
    "from datetime import datetime\n",
    "from sklearn.svm import SVR"
   ]
  },
  {
   "cell_type": "code",
   "execution_count": 201,
   "metadata": {
    "collapsed": true
   },
   "outputs": [],
   "source": [
    "df = pd.read_csv(\"Data/ticket.csv\", delimiter=\"\\t\")"
   ]
  },
  {
   "cell_type": "markdown",
   "metadata": {},
   "source": [
    "#### Removing redundant sections and rows with NaN for CheckinTime"
   ]
  },
  {
   "cell_type": "code",
   "execution_count": 202,
   "metadata": {},
   "outputs": [],
   "source": [
    "df.drop(\"TIME SECTION\",1, inplace = True)\n",
    "df.drop(\"TICKET\",1, inplace = True)\n",
    "df.drop(\"TICKET NUM\",1, inplace = True)\n",
    "df.drop(\"TABLE TYPE\",1, inplace = True)\n",
    "df.drop(\"STATUS\",1, inplace = True)\n",
    "df.drop(\"CHANNEL\",1, inplace = True)"
   ]
  },
  {
   "cell_type": "code",
   "execution_count": 203,
   "metadata": {},
   "outputs": [
    {
     "data": {
      "text/html": [
       "<div>\n",
       "<style>\n",
       "    .dataframe thead tr:only-child th {\n",
       "        text-align: right;\n",
       "    }\n",
       "\n",
       "    .dataframe thead th {\n",
       "        text-align: left;\n",
       "    }\n",
       "\n",
       "    .dataframe tbody tr th {\n",
       "        vertical-align: top;\n",
       "    }\n",
       "</style>\n",
       "<table border=\"1\" class=\"dataframe\">\n",
       "  <thead>\n",
       "    <tr style=\"text-align: right;\">\n",
       "      <th></th>\n",
       "      <th>REST_ID</th>\n",
       "      <th>TABLE SIZE</th>\n",
       "      <th>CREATE TIME</th>\n",
       "      <th>CHECKINTIME</th>\n",
       "    </tr>\n",
       "  </thead>\n",
       "  <tbody>\n",
       "    <tr>\n",
       "      <th>0</th>\n",
       "      <td>113442</td>\n",
       "      <td>5</td>\n",
       "      <td>2016-01-01 11:09:19.000</td>\n",
       "      <td>2016-01-01 11:16:41</td>\n",
       "    </tr>\n",
       "    <tr>\n",
       "      <th>1</th>\n",
       "      <td>113442</td>\n",
       "      <td>4</td>\n",
       "      <td>2016-01-01 11:15:45.000</td>\n",
       "      <td>2016-01-01 11:16:40</td>\n",
       "    </tr>\n",
       "    <tr>\n",
       "      <th>2</th>\n",
       "      <td>113442</td>\n",
       "      <td>2</td>\n",
       "      <td>2016-01-01 11:17:11.000</td>\n",
       "      <td>2016-01-01 11:17:21</td>\n",
       "    </tr>\n",
       "    <tr>\n",
       "      <th>3</th>\n",
       "      <td>113442</td>\n",
       "      <td>2</td>\n",
       "      <td>2016-01-01 11:34:41.000</td>\n",
       "      <td>2016-01-01 11:34:53</td>\n",
       "    </tr>\n",
       "    <tr>\n",
       "      <th>4</th>\n",
       "      <td>113442</td>\n",
       "      <td>5</td>\n",
       "      <td>2016-01-01 11:51:00.000</td>\n",
       "      <td>2016-01-01 12:00:36</td>\n",
       "    </tr>\n",
       "  </tbody>\n",
       "</table>\n",
       "</div>"
      ],
      "text/plain": [
       "   REST_ID  TABLE SIZE              CREATE TIME          CHECKINTIME\n",
       "0   113442           5  2016-01-01 11:09:19.000  2016-01-01 11:16:41\n",
       "1   113442           4  2016-01-01 11:15:45.000  2016-01-01 11:16:40\n",
       "2   113442           2  2016-01-01 11:17:11.000  2016-01-01 11:17:21\n",
       "3   113442           2  2016-01-01 11:34:41.000  2016-01-01 11:34:53\n",
       "4   113442           5  2016-01-01 11:51:00.000  2016-01-01 12:00:36"
      ]
     },
     "execution_count": 203,
     "metadata": {},
     "output_type": "execute_result"
    }
   ],
   "source": [
    "df.head(5)"
   ]
  },
  {
   "cell_type": "markdown",
   "metadata": {},
   "source": [
    "#### Parsing the DateTime and adding columns based on it"
   ]
  },
  {
   "cell_type": "code",
   "execution_count": 204,
   "metadata": {},
   "outputs": [],
   "source": [
    "dater = lambda c: datetime.strptime(c, \"%Y-%m-%d %H:%M:%S.%f\")\n",
    "dater2 = lambda c: datetime.strptime(c, \"%Y-%m-%d %H:%M:%S\")"
   ]
  },
  {
   "cell_type": "code",
   "execution_count": 205,
   "metadata": {},
   "outputs": [],
   "source": [
    "# df[\"TIME CHECKIN\"] = df[\"CHECKINTIME\"].apply(lambda a: dater2(a).hour*3600 + dater2(a).minute*60 + dater2(a).second)\n",
    "df[\"TIME (SEC)\"] = df[\"CREATE TIME\"].apply(lambda a: dater(a).hour*3600 + dater(a).minute*60 + dater(a).second)\n",
    "df[\"MONTH\"] = df[\"CREATE TIME\"].apply(lambda a: int(a.split()[0].split('-')[1]))\n",
    "df[\"DATE\"] = df[\"CREATE TIME\"].apply(lambda a: dater(a).day)\n",
    "df[\"DAY\"] = df[\"CREATE TIME\"].apply(lambda a: dater(a).isoweekday())\n",
    "# df[\"WAIT TIME\"] = df[\"TIME CHECKIN\"] - df[\"TIME (SEC)\"]\n",
    "df[\"INTERVAL NUMBER\"] = df[\"TIME (SEC)\"]//1200"
   ]
  },
  {
   "cell_type": "code",
   "execution_count": 206,
   "metadata": {},
   "outputs": [
    {
     "data": {
      "text/html": [
       "<div>\n",
       "<style>\n",
       "    .dataframe thead tr:only-child th {\n",
       "        text-align: right;\n",
       "    }\n",
       "\n",
       "    .dataframe thead th {\n",
       "        text-align: left;\n",
       "    }\n",
       "\n",
       "    .dataframe tbody tr th {\n",
       "        vertical-align: top;\n",
       "    }\n",
       "</style>\n",
       "<table border=\"1\" class=\"dataframe\">\n",
       "  <thead>\n",
       "    <tr style=\"text-align: right;\">\n",
       "      <th></th>\n",
       "      <th>REST_ID</th>\n",
       "      <th>TABLE SIZE</th>\n",
       "      <th>CREATE TIME</th>\n",
       "      <th>CHECKINTIME</th>\n",
       "      <th>TIME (SEC)</th>\n",
       "      <th>MONTH</th>\n",
       "      <th>DATE</th>\n",
       "      <th>DAY</th>\n",
       "      <th>INTERVAL NUMBER</th>\n",
       "    </tr>\n",
       "  </thead>\n",
       "  <tbody>\n",
       "    <tr>\n",
       "      <th>0</th>\n",
       "      <td>113442</td>\n",
       "      <td>5</td>\n",
       "      <td>2016-01-01 11:09:19.000</td>\n",
       "      <td>2016-01-01 11:16:41</td>\n",
       "      <td>40159</td>\n",
       "      <td>1</td>\n",
       "      <td>1</td>\n",
       "      <td>5</td>\n",
       "      <td>33</td>\n",
       "    </tr>\n",
       "    <tr>\n",
       "      <th>1</th>\n",
       "      <td>113442</td>\n",
       "      <td>4</td>\n",
       "      <td>2016-01-01 11:15:45.000</td>\n",
       "      <td>2016-01-01 11:16:40</td>\n",
       "      <td>40545</td>\n",
       "      <td>1</td>\n",
       "      <td>1</td>\n",
       "      <td>5</td>\n",
       "      <td>33</td>\n",
       "    </tr>\n",
       "    <tr>\n",
       "      <th>2</th>\n",
       "      <td>113442</td>\n",
       "      <td>2</td>\n",
       "      <td>2016-01-01 11:17:11.000</td>\n",
       "      <td>2016-01-01 11:17:21</td>\n",
       "      <td>40631</td>\n",
       "      <td>1</td>\n",
       "      <td>1</td>\n",
       "      <td>5</td>\n",
       "      <td>33</td>\n",
       "    </tr>\n",
       "    <tr>\n",
       "      <th>3</th>\n",
       "      <td>113442</td>\n",
       "      <td>2</td>\n",
       "      <td>2016-01-01 11:34:41.000</td>\n",
       "      <td>2016-01-01 11:34:53</td>\n",
       "      <td>41681</td>\n",
       "      <td>1</td>\n",
       "      <td>1</td>\n",
       "      <td>5</td>\n",
       "      <td>34</td>\n",
       "    </tr>\n",
       "    <tr>\n",
       "      <th>4</th>\n",
       "      <td>113442</td>\n",
       "      <td>5</td>\n",
       "      <td>2016-01-01 11:51:00.000</td>\n",
       "      <td>2016-01-01 12:00:36</td>\n",
       "      <td>42660</td>\n",
       "      <td>1</td>\n",
       "      <td>1</td>\n",
       "      <td>5</td>\n",
       "      <td>35</td>\n",
       "    </tr>\n",
       "  </tbody>\n",
       "</table>\n",
       "</div>"
      ],
      "text/plain": [
       "   REST_ID  TABLE SIZE              CREATE TIME          CHECKINTIME  \\\n",
       "0   113442           5  2016-01-01 11:09:19.000  2016-01-01 11:16:41   \n",
       "1   113442           4  2016-01-01 11:15:45.000  2016-01-01 11:16:40   \n",
       "2   113442           2  2016-01-01 11:17:11.000  2016-01-01 11:17:21   \n",
       "3   113442           2  2016-01-01 11:34:41.000  2016-01-01 11:34:53   \n",
       "4   113442           5  2016-01-01 11:51:00.000  2016-01-01 12:00:36   \n",
       "\n",
       "   TIME (SEC)  MONTH  DATE  DAY  INTERVAL NUMBER  \n",
       "0       40159      1     1    5               33  \n",
       "1       40545      1     1    5               33  \n",
       "2       40631      1     1    5               33  \n",
       "3       41681      1     1    5               34  \n",
       "4       42660      1     1    5               35  "
      ]
     },
     "execution_count": 206,
     "metadata": {},
     "output_type": "execute_result"
    }
   ],
   "source": [
    "df.head(5)"
   ]
  },
  {
   "cell_type": "markdown",
   "metadata": {},
   "source": [
    "#### Setting up the regression model and training on it"
   ]
  },
  {
   "cell_type": "code",
   "execution_count": 208,
   "metadata": {},
   "outputs": [],
   "source": [
    "df.drop(\"TABLE SIZE\",1, inplace = True)\n",
    "df.drop(\"CREATE TIME\",1, inplace = True)\n",
    "df.drop(\"CHECKINTIME\",1, inplace = True)\n",
    "# df.drop(\"TIME CHECKIN\",1, inplace = True)\n",
    "df.drop(\"TIME (SEC)\",1, inplace = True)\n",
    "# df.drop(\"WAIT TIME\",1, inplace = True)\n",
    "df = df.groupby(df.columns.tolist()).size().reset_index().rename(columns={0:'DENSITY'})"
   ]
  },
  {
   "cell_type": "code",
   "execution_count": 210,
   "metadata": {},
   "outputs": [
    {
     "data": {
      "text/html": [
       "<div>\n",
       "<style>\n",
       "    .dataframe thead tr:only-child th {\n",
       "        text-align: right;\n",
       "    }\n",
       "\n",
       "    .dataframe thead th {\n",
       "        text-align: left;\n",
       "    }\n",
       "\n",
       "    .dataframe tbody tr th {\n",
       "        vertical-align: top;\n",
       "    }\n",
       "</style>\n",
       "<table border=\"1\" class=\"dataframe\">\n",
       "  <thead>\n",
       "    <tr style=\"text-align: right;\">\n",
       "      <th></th>\n",
       "      <th>REST_ID</th>\n",
       "      <th>MONTH</th>\n",
       "      <th>DATE</th>\n",
       "      <th>DAY</th>\n",
       "      <th>INTERVAL NUMBER</th>\n",
       "      <th>DENSITY</th>\n",
       "    </tr>\n",
       "  </thead>\n",
       "  <tbody>\n",
       "    <tr>\n",
       "      <th>0</th>\n",
       "      <td>113442</td>\n",
       "      <td>1</td>\n",
       "      <td>1</td>\n",
       "      <td>5</td>\n",
       "      <td>33</td>\n",
       "      <td>3</td>\n",
       "    </tr>\n",
       "    <tr>\n",
       "      <th>1</th>\n",
       "      <td>113442</td>\n",
       "      <td>1</td>\n",
       "      <td>1</td>\n",
       "      <td>5</td>\n",
       "      <td>34</td>\n",
       "      <td>1</td>\n",
       "    </tr>\n",
       "    <tr>\n",
       "      <th>2</th>\n",
       "      <td>113442</td>\n",
       "      <td>1</td>\n",
       "      <td>1</td>\n",
       "      <td>5</td>\n",
       "      <td>35</td>\n",
       "      <td>4</td>\n",
       "    </tr>\n",
       "    <tr>\n",
       "      <th>3</th>\n",
       "      <td>113442</td>\n",
       "      <td>1</td>\n",
       "      <td>1</td>\n",
       "      <td>5</td>\n",
       "      <td>36</td>\n",
       "      <td>10</td>\n",
       "    </tr>\n",
       "    <tr>\n",
       "      <th>4</th>\n",
       "      <td>113442</td>\n",
       "      <td>1</td>\n",
       "      <td>1</td>\n",
       "      <td>5</td>\n",
       "      <td>37</td>\n",
       "      <td>3</td>\n",
       "    </tr>\n",
       "  </tbody>\n",
       "</table>\n",
       "</div>"
      ],
      "text/plain": [
       "   REST_ID  MONTH  DATE  DAY  INTERVAL NUMBER  DENSITY\n",
       "0   113442      1     1    5               33        3\n",
       "1   113442      1     1    5               34        1\n",
       "2   113442      1     1    5               35        4\n",
       "3   113442      1     1    5               36       10\n",
       "4   113442      1     1    5               37        3"
      ]
     },
     "execution_count": 210,
     "metadata": {},
     "output_type": "execute_result"
    }
   ],
   "source": [
    "df.head(5)"
   ]
  },
  {
   "cell_type": "code",
   "execution_count": null,
   "metadata": {
    "collapsed": true
   },
   "outputs": [],
   "source": []
  },
  {
   "cell_type": "code",
   "execution_count": null,
   "metadata": {
    "collapsed": true
   },
   "outputs": [],
   "source": []
  }
 ],
 "metadata": {
  "kernelspec": {
   "display_name": "Python 3",
   "language": "python",
   "name": "python3"
  },
  "language_info": {
   "codemirror_mode": {
    "name": "ipython",
    "version": 3
   },
   "file_extension": ".py",
   "mimetype": "text/x-python",
   "name": "python",
   "nbconvert_exporter": "python",
   "pygments_lexer": "ipython3",
   "version": "3.6.1"
  }
 },
 "nbformat": 4,
 "nbformat_minor": 2
}
