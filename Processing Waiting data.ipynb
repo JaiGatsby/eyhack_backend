{
 "cells": [
  {
   "cell_type": "code",
   "execution_count": 142,
   "metadata": {
    "collapsed": true
   },
   "outputs": [],
   "source": [
    "import pandas as pd\n",
    "from sklearn import preprocessing\n",
    "from datetime import datetime\n",
    "from sklearn.svm import SVR"
   ]
  },
  {
   "cell_type": "code",
   "execution_count": 156,
   "metadata": {
    "collapsed": true
   },
   "outputs": [],
   "source": [
    "df = pd.read_csv(\"Data/ticket.csv\", delimiter=\"\\t\")"
   ]
  },
  {
   "cell_type": "markdown",
   "metadata": {},
   "source": [
    "#### Removing redundant sections and rows with NaN for CheckinTime"
   ]
  },
  {
   "cell_type": "code",
   "execution_count": 157,
   "metadata": {
    "collapsed": false
   },
   "outputs": [],
   "source": [
    "df.drop(\"TIME SECTION\",1, inplace = True)\n",
    "df.drop(\"TICKET\",1, inplace = True)\n",
    "df.drop(\"TICKET NUM\",1, inplace = True)\n",
    "df.drop(\"TABLE TYPE\",1, inplace = True)\n",
    "df.drop(\"STATUS\",1, inplace = True)\n",
    "df.drop(\"CHANNEL\",1, inplace = True)\n",
    "df = df.dropna()"
   ]
  },
  {
   "cell_type": "code",
   "execution_count": 173,
   "metadata": {
    "collapsed": false
   },
   "outputs": [
    {
     "data": {
      "text/html": [
       "<div>\n",
       "<table border=\"1\" class=\"dataframe\">\n",
       "  <thead>\n",
       "    <tr style=\"text-align: right;\">\n",
       "      <th></th>\n",
       "      <th>REST_ID</th>\n",
       "      <th>TABLE SIZE</th>\n",
       "      <th>TIME (SEC)</th>\n",
       "      <th>MONTH</th>\n",
       "      <th>DAY</th>\n",
       "      <th>TIME CHECKIN</th>\n",
       "      <th>WAIT TIME</th>\n",
       "    </tr>\n",
       "  </thead>\n",
       "  <tbody>\n",
       "    <tr>\n",
       "      <th>0</th>\n",
       "      <td>113442</td>\n",
       "      <td>5</td>\n",
       "      <td>40159</td>\n",
       "      <td>1</td>\n",
       "      <td>5</td>\n",
       "      <td>40601</td>\n",
       "      <td>442</td>\n",
       "    </tr>\n",
       "    <tr>\n",
       "      <th>1</th>\n",
       "      <td>113442</td>\n",
       "      <td>4</td>\n",
       "      <td>40545</td>\n",
       "      <td>1</td>\n",
       "      <td>5</td>\n",
       "      <td>40600</td>\n",
       "      <td>55</td>\n",
       "    </tr>\n",
       "    <tr>\n",
       "      <th>2</th>\n",
       "      <td>113442</td>\n",
       "      <td>2</td>\n",
       "      <td>40631</td>\n",
       "      <td>1</td>\n",
       "      <td>5</td>\n",
       "      <td>40641</td>\n",
       "      <td>10</td>\n",
       "    </tr>\n",
       "    <tr>\n",
       "      <th>3</th>\n",
       "      <td>113442</td>\n",
       "      <td>2</td>\n",
       "      <td>41681</td>\n",
       "      <td>1</td>\n",
       "      <td>5</td>\n",
       "      <td>41693</td>\n",
       "      <td>12</td>\n",
       "    </tr>\n",
       "    <tr>\n",
       "      <th>4</th>\n",
       "      <td>113442</td>\n",
       "      <td>5</td>\n",
       "      <td>42660</td>\n",
       "      <td>1</td>\n",
       "      <td>5</td>\n",
       "      <td>43236</td>\n",
       "      <td>576</td>\n",
       "    </tr>\n",
       "  </tbody>\n",
       "</table>\n",
       "</div>"
      ],
      "text/plain": [
       "   REST_ID  TABLE SIZE  TIME (SEC)  MONTH  DAY  TIME CHECKIN  WAIT TIME\n",
       "0   113442           5       40159      1    5         40601        442\n",
       "1   113442           4       40545      1    5         40600         55\n",
       "2   113442           2       40631      1    5         40641         10\n",
       "3   113442           2       41681      1    5         41693         12\n",
       "4   113442           5       42660      1    5         43236        576"
      ]
     },
     "execution_count": 173,
     "metadata": {},
     "output_type": "execute_result"
    }
   ],
   "source": [
    "df.head(5)"
   ]
  },
  {
   "cell_type": "markdown",
   "metadata": {},
   "source": [
    "#### Parsing the DateTime and adding columns based on it"
   ]
  },
  {
   "cell_type": "code",
   "execution_count": 167,
   "metadata": {
    "collapsed": false
   },
   "outputs": [],
   "source": [
    "dater = lambda c: datetime.strptime(c, \"%Y-%m-%d %H:%M:%S.%f\")\n",
    "dater2 = lambda c: datetime.strptime(c, \"%Y-%m-%d %H:%M:%S\")"
   ]
  },
  {
   "cell_type": "code",
   "execution_count": 170,
   "metadata": {
    "collapsed": false
   },
   "outputs": [],
   "source": [
    "df[\"TIME CHECKIN\"] = df[\"CHECKINTIME\"].apply(lambda a: dater2(a).hour*3600 + dater2(a).minute*60 + dater2(a).second)\n",
    "df[\"TIME (SEC)\"] = df[\"CREATE TIME\"].apply(lambda a: dater(a).hour*3600 + dater(a).minute*60 + dater(a).second)\n",
    "df[\"MONTH\"] = df[\"CREATE TIME\"].apply(lambda a: int(a.split()[0].split('-')[1]))\n",
    "df[\"DAY\"] = df[\"CREATE TIME\"].apply(lambda a: dater(a).isoweekday())\n",
    "df[\"WAIT TIME\"] = df[\"TIME CHECKIN\"] - df[\"TIME (SEC)\"]"
   ]
  },
  {
   "cell_type": "code",
   "execution_count": 172,
   "metadata": {
    "collapsed": true
   },
   "outputs": [],
   "source": [
    "df.drop(\"CREATE TIME\",1, inplace = True)\n",
    "df.drop(\"CHECKINTIME\",1, inplace = True)"
   ]
  },
  {
   "cell_type": "markdown",
   "metadata": {},
   "source": [
    "#### Setting up the regression model and training on it"
   ]
  },
  {
   "cell_type": "code",
   "execution_count": null,
   "metadata": {
    "collapsed": true
   },
   "outputs": [],
   "source": [
    "clf = SVR()\n",
    "X = "
   ]
  }
 ],
 "metadata": {
  "kernelspec": {
   "display_name": "Python 3",
   "language": "python",
   "name": "python3"
  },
  "language_info": {
   "codemirror_mode": {
    "name": "ipython",
    "version": 3
   },
   "file_extension": ".py",
   "mimetype": "text/x-python",
   "name": "python",
   "nbconvert_exporter": "python",
   "pygments_lexer": "ipython3",
   "version": "3.6.0"
  }
 },
 "nbformat": 4,
 "nbformat_minor": 2
}
