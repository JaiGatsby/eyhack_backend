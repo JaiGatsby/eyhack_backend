{
 "cells": [
  {
   "cell_type": "code",
   "execution_count": 88,
   "metadata": {
    "collapsed": true
   },
   "outputs": [],
   "source": [
    "import pandas as pd\n",
    "from sklearn import preprocessing"
   ]
  },
  {
   "cell_type": "code",
   "execution_count": 132,
   "metadata": {
    "collapsed": true
   },
   "outputs": [],
   "source": [
    "df = pd.read_csv(\"Data/ticket.csv\", delimiter=\"\\t\")"
   ]
  },
  {
   "cell_type": "markdown",
   "metadata": {},
   "source": [
    "#### Removing redundant sections and rows with NaN for CheckinTime"
   ]
  },
  {
   "cell_type": "code",
   "execution_count": 133,
   "metadata": {
    "collapsed": false
   },
   "outputs": [],
   "source": [
    "df.drop(\"TIME SECTION\",1, inplace = True)\n",
    "df.drop(\"TICKET\",1, inplace = True)\n",
    "df.drop(\"TICKET NUM\",1, inplace = True)\n",
    "df.drop(\"TABLE TYPE\",1, inplace = True)\n",
    "df.drop(\"STATUS\",1, inplace = True)\n",
    "df.drop(\"CHANNEL\",1, inplace = True)\n",
    "df = df.dropna()"
   ]
  },
  {
   "cell_type": "code",
   "execution_count": 136,
   "metadata": {
    "collapsed": false
   },
   "outputs": [
    {
     "data": {
      "text/html": [
       "<div>\n",
       "<table border=\"1\" class=\"dataframe\">\n",
       "  <thead>\n",
       "    <tr style=\"text-align: right;\">\n",
       "      <th></th>\n",
       "      <th>REST_ID</th>\n",
       "      <th>TABLE SIZE</th>\n",
       "      <th>CREATE TIME</th>\n",
       "      <th>CHECKINTIME</th>\n",
       "      <th>TIME (HR)</th>\n",
       "      <th>TIME (SEC)</th>\n",
       "    </tr>\n",
       "  </thead>\n",
       "  <tbody>\n",
       "    <tr>\n",
       "      <th>0</th>\n",
       "      <td>113442</td>\n",
       "      <td>5</td>\n",
       "      <td>2016-01-01 11:09:19.000</td>\n",
       "      <td>2016-01-01 11:16:41</td>\n",
       "      <td>11</td>\n",
       "      <td>559</td>\n",
       "    </tr>\n",
       "    <tr>\n",
       "      <th>1</th>\n",
       "      <td>113442</td>\n",
       "      <td>4</td>\n",
       "      <td>2016-01-01 11:15:45.000</td>\n",
       "      <td>2016-01-01 11:16:40</td>\n",
       "      <td>11</td>\n",
       "      <td>945</td>\n",
       "    </tr>\n",
       "    <tr>\n",
       "      <th>2</th>\n",
       "      <td>113442</td>\n",
       "      <td>2</td>\n",
       "      <td>2016-01-01 11:17:11.000</td>\n",
       "      <td>2016-01-01 11:17:21</td>\n",
       "      <td>11</td>\n",
       "      <td>1031</td>\n",
       "    </tr>\n",
       "    <tr>\n",
       "      <th>3</th>\n",
       "      <td>113442</td>\n",
       "      <td>2</td>\n",
       "      <td>2016-01-01 11:34:41.000</td>\n",
       "      <td>2016-01-01 11:34:53</td>\n",
       "      <td>11</td>\n",
       "      <td>2081</td>\n",
       "    </tr>\n",
       "    <tr>\n",
       "      <th>4</th>\n",
       "      <td>113442</td>\n",
       "      <td>5</td>\n",
       "      <td>2016-01-01 11:51:00.000</td>\n",
       "      <td>2016-01-01 12:00:36</td>\n",
       "      <td>11</td>\n",
       "      <td>3060</td>\n",
       "    </tr>\n",
       "  </tbody>\n",
       "</table>\n",
       "</div>"
      ],
      "text/plain": [
       "   REST_ID  TABLE SIZE              CREATE TIME          CHECKINTIME  \\\n",
       "0   113442           5  2016-01-01 11:09:19.000  2016-01-01 11:16:41   \n",
       "1   113442           4  2016-01-01 11:15:45.000  2016-01-01 11:16:40   \n",
       "2   113442           2  2016-01-01 11:17:11.000  2016-01-01 11:17:21   \n",
       "3   113442           2  2016-01-01 11:34:41.000  2016-01-01 11:34:53   \n",
       "4   113442           5  2016-01-01 11:51:00.000  2016-01-01 12:00:36   \n",
       "\n",
       "  TIME (HR)  TIME (SEC)  \n",
       "0        11         559  \n",
       "1        11         945  \n",
       "2        11        1031  \n",
       "3        11        2081  \n",
       "4        11        3060  "
      ]
     },
     "execution_count": 136,
     "metadata": {},
     "output_type": "execute_result"
    }
   ],
   "source": [
    "df.head(5)"
   ]
  },
  {
   "cell_type": "code",
   "execution_count": 135,
   "metadata": {
    "collapsed": false
   },
   "outputs": [],
   "source": [
    "df[\"TIME (HR)\"] = df[\"CREATE TIME\"].apply(lambda a: a.split()[1].split(':')[0])\n",
    "df[\"TIME (SEC)\"] = df[\"CREATE TIME\"].apply(lambda a: int(int(a.split()[1].split(':')[1])*60 + float(a.split()[1].split(':')[2])))\n",
    "df[\"MONTH\"] = df[\"CREATE TIME\"].apply(lambda a: int(a.split()[1].split('-')[1]))\n",
    "df[\"TIME (HR)\"] = df[\"CREATE TIME\"].apply(lambda a: DateTime )"
   ]
  },
  {
   "cell_type": "code",
   "execution_count": 75,
   "metadata": {
    "collapsed": true
   },
   "outputs": [],
   "source": [
    "# lb = preprocessing.LabelBinarizer()\n",
    "# lb.fit(['01','02','03','04','05','06','07','08','09','10','11','12'])\n",
    "def handleDate(i, DT):\n",
    "    date, time = DT.split()\n",
    "    print(date)\n",
    "    yr, mth, dd = date.split('-')\n",
    "#     mth = lb.transform([mth])[0]\n",
    "    mth = int(mth)\n",
    "    hr, mn, sec = time.split(':')\n",
    "    sec = int(int(mn)*6 + float(sec))\n",
    "    hr = int(hr)\n",
    "    test.loc[i, [\"TIME HR\"]] = hr\n",
    "    test.loc[i, [\"TIME SEC\"]] = sec\n",
    "    test.loc[i, [\"MONTH\"]] = mth\n",
    "    "
   ]
  },
  {
   "cell_type": "code",
   "execution_count": 98,
   "metadata": {
    "collapsed": false
   },
   "outputs": [
    {
     "data": {
      "text/plain": [
       "<generator object DataFrame.iteritems at 0x0000021C8E2369E8>"
      ]
     },
     "execution_count": 98,
     "metadata": {},
     "output_type": "execute_result"
    }
   ],
   "source": [
    "test.loc[:,[\"CREATE TIME\"]].items()"
   ]
  },
  {
   "cell_type": "code",
   "execution_count": 109,
   "metadata": {
    "collapsed": false
   },
   "outputs": [
    {
     "name": "stdout",
     "output_type": "stream",
     "text": [
      "2016-01-01\n",
      "2016-01-01\n",
      "2016-01-01"
     ]
    },
    {
     "name": "stderr",
     "output_type": "stream",
     "text": [
      "C:\\Users\\user\\Anaconda3\\lib\\site-packages\\ipykernel\\__main__.py:12: SettingWithCopyWarning: \n",
      "A value is trying to be set on a copy of a slice from a DataFrame\n",
      "\n",
      "See the caveats in the documentation: http://pandas.pydata.org/pandas-docs/stable/indexing.html#indexing-view-versus-copy\n",
      "C:\\Users\\user\\Anaconda3\\lib\\site-packages\\ipykernel\\__main__.py:8: SettingWithCopyWarning: \n",
      "A value is trying to be set on a copy of a slice from a DataFrame\n",
      "\n",
      "See the caveats in the documentation: http://pandas.pydata.org/pandas-docs/stable/indexing.html#indexing-view-versus-copy\n",
      "C:\\Users\\user\\Anaconda3\\lib\\site-packages\\ipykernel\\__main__.py:13: SettingWithCopyWarning: \n",
      "A value is trying to be set on a copy of a slice from a DataFrame\n",
      "\n",
      "See the caveats in the documentation: http://pandas.pydata.org/pandas-docs/stable/indexing.html#indexing-view-versus-copy\n",
      "C:\\Users\\user\\Anaconda3\\lib\\site-packages\\ipykernel\\__main__.py:14: SettingWithCopyWarning: \n",
      "A value is trying to be set on a copy of a slice from a DataFrame\n",
      "\n",
      "See the caveats in the documentation: http://pandas.pydata.org/pandas-docs/stable/indexing.html#indexing-view-versus-copy\n"
     ]
    },
    {
     "name": "stdout",
     "output_type": "stream",
     "text": [
      "\n",
      "2016-01-01\n",
      "2016-01-01\n"
     ]
    }
   ],
   "source": [
    "i = 0\n",
    "for j,k in test.loc[:,[\"CREATE TIME\"]].items():\n",
    "#     if i !=0:\n",
    "#         handleDate(i,j)\n",
    "#         pass\n",
    "    i = i+1\n",
    "    for yo,elem in enumerate(k):\n",
    "        handleDate(yo, elem)\n",
    "# map(handleDate, test.loc[1:,[\"CREATE TIME\"]])"
   ]
  },
  {
   "cell_type": "code",
   "execution_count": 110,
   "metadata": {
    "collapsed": false
   },
   "outputs": [
    {
     "data": {
      "text/html": [
       "<div>\n",
       "<table border=\"1\" class=\"dataframe\">\n",
       "  <thead>\n",
       "    <tr style=\"text-align: right;\">\n",
       "      <th></th>\n",
       "      <th>REST_ID</th>\n",
       "      <th>TABLE SIZE</th>\n",
       "      <th>CREATE TIME</th>\n",
       "      <th>CHECKINTIME</th>\n",
       "      <th>TIME HR</th>\n",
       "      <th>TIME SEC</th>\n",
       "      <th>DAY</th>\n",
       "      <th>MONTH</th>\n",
       "      <th>WAIT TIME</th>\n",
       "    </tr>\n",
       "  </thead>\n",
       "  <tbody>\n",
       "    <tr>\n",
       "      <th>0</th>\n",
       "      <td>113442</td>\n",
       "      <td>5</td>\n",
       "      <td>2016-01-01 11:09:19.000</td>\n",
       "      <td>2016-01-01 11:16:41</td>\n",
       "      <td>11</td>\n",
       "      <td>73</td>\n",
       "      <td></td>\n",
       "      <td>1</td>\n",
       "      <td></td>\n",
       "    </tr>\n",
       "    <tr>\n",
       "      <th>1</th>\n",
       "      <td>113442</td>\n",
       "      <td>4</td>\n",
       "      <td>2016-01-01 11:15:45.000</td>\n",
       "      <td>2016-01-01 11:16:40</td>\n",
       "      <td>11</td>\n",
       "      <td>135</td>\n",
       "      <td></td>\n",
       "      <td>1</td>\n",
       "      <td></td>\n",
       "    </tr>\n",
       "    <tr>\n",
       "      <th>2</th>\n",
       "      <td>113442</td>\n",
       "      <td>2</td>\n",
       "      <td>2016-01-01 11:17:11.000</td>\n",
       "      <td>2016-01-01 11:17:21</td>\n",
       "      <td>11</td>\n",
       "      <td>113</td>\n",
       "      <td></td>\n",
       "      <td>1</td>\n",
       "      <td></td>\n",
       "    </tr>\n",
       "    <tr>\n",
       "      <th>3</th>\n",
       "      <td>113442</td>\n",
       "      <td>2</td>\n",
       "      <td>2016-01-01 11:34:41.000</td>\n",
       "      <td>2016-01-01 11:34:53</td>\n",
       "      <td>11</td>\n",
       "      <td>245</td>\n",
       "      <td></td>\n",
       "      <td>1</td>\n",
       "      <td></td>\n",
       "    </tr>\n",
       "    <tr>\n",
       "      <th>4</th>\n",
       "      <td>113442</td>\n",
       "      <td>5</td>\n",
       "      <td>2016-01-01 11:51:00.000</td>\n",
       "      <td>2016-01-01 12:00:36</td>\n",
       "      <td>11</td>\n",
       "      <td>306</td>\n",
       "      <td></td>\n",
       "      <td>1</td>\n",
       "      <td></td>\n",
       "    </tr>\n",
       "  </tbody>\n",
       "</table>\n",
       "</div>"
      ],
      "text/plain": [
       "   REST_ID  TABLE SIZE              CREATE TIME          CHECKINTIME TIME HR  \\\n",
       "0   113442           5  2016-01-01 11:09:19.000  2016-01-01 11:16:41      11   \n",
       "1   113442           4  2016-01-01 11:15:45.000  2016-01-01 11:16:40      11   \n",
       "2   113442           2  2016-01-01 11:17:11.000  2016-01-01 11:17:21      11   \n",
       "3   113442           2  2016-01-01 11:34:41.000  2016-01-01 11:34:53      11   \n",
       "4   113442           5  2016-01-01 11:51:00.000  2016-01-01 12:00:36      11   \n",
       "\n",
       "  TIME SEC DAY MONTH WAIT TIME  \n",
       "0       73         1            \n",
       "1      135         1            \n",
       "2      113         1            \n",
       "3      245         1            \n",
       "4      306         1            "
      ]
     },
     "execution_count": 110,
     "metadata": {},
     "output_type": "execute_result"
    }
   ],
   "source": [
    "test"
   ]
  },
  {
   "cell_type": "code",
   "execution_count": null,
   "metadata": {
    "collapsed": true
   },
   "outputs": [],
   "source": []
  }
 ],
 "metadata": {
  "kernelspec": {
   "display_name": "Python 3",
   "language": "python",
   "name": "python3"
  },
  "language_info": {
   "codemirror_mode": {
    "name": "ipython",
    "version": 3
   },
   "file_extension": ".py",
   "mimetype": "text/x-python",
   "name": "python",
   "nbconvert_exporter": "python",
   "pygments_lexer": "ipython3",
   "version": "3.6.0"
  }
 },
 "nbformat": 4,
 "nbformat_minor": 2
}
