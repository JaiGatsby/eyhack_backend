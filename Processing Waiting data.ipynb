{
 "cells": [
  {
   "cell_type": "code",
   "execution_count": 142,
   "metadata": {
    "collapsed": true
   },
   "outputs": [],
   "source": [
    "import pandas as pd\n",
    "from sklearn import preprocessing\n",
    "from datetime import datetime"
   ]
  },
  {
   "cell_type": "code",
   "execution_count": 143,
   "metadata": {
    "collapsed": true
   },
   "outputs": [],
   "source": [
    "df = pd.read_csv(\"Data/ticket.csv\", delimiter=\"\\t\")"
   ]
  },
  {
   "cell_type": "markdown",
   "metadata": {},
   "source": [
    "#### Removing redundant sections and rows with NaN for CheckinTime"
   ]
  },
  {
   "cell_type": "code",
   "execution_count": 144,
   "metadata": {
    "collapsed": false
   },
   "outputs": [],
   "source": [
    "df.drop(\"TIME SECTION\",1, inplace = True)\n",
    "df.drop(\"TICKET\",1, inplace = True)\n",
    "df.drop(\"TICKET NUM\",1, inplace = True)\n",
    "df.drop(\"TABLE TYPE\",1, inplace = True)\n",
    "df.drop(\"STATUS\",1, inplace = True)\n",
    "df.drop(\"CHANNEL\",1, inplace = True)\n",
    "df = df.dropna()"
   ]
  },
  {
   "cell_type": "code",
   "execution_count": 149,
   "metadata": {
    "collapsed": false
   },
   "outputs": [
    {
     "data": {
      "text/html": [
       "<div>\n",
       "<table border=\"1\" class=\"dataframe\">\n",
       "  <thead>\n",
       "    <tr style=\"text-align: right;\">\n",
       "      <th></th>\n",
       "      <th>REST_ID</th>\n",
       "      <th>TABLE SIZE</th>\n",
       "      <th>CREATE TIME</th>\n",
       "      <th>CHECKINTIME</th>\n",
       "      <th>TIME (HR)</th>\n",
       "      <th>TIME (SEC)</th>\n",
       "      <th>MONTH</th>\n",
       "      <th>DAY</th>\n",
       "    </tr>\n",
       "  </thead>\n",
       "  <tbody>\n",
       "    <tr>\n",
       "      <th>0</th>\n",
       "      <td>113442</td>\n",
       "      <td>5</td>\n",
       "      <td>2016-01-01 11:09:19.000</td>\n",
       "      <td>2016-01-01 11:16:41</td>\n",
       "      <td>11</td>\n",
       "      <td>559</td>\n",
       "      <td>1</td>\n",
       "      <td>5</td>\n",
       "    </tr>\n",
       "    <tr>\n",
       "      <th>1</th>\n",
       "      <td>113442</td>\n",
       "      <td>4</td>\n",
       "      <td>2016-01-01 11:15:45.000</td>\n",
       "      <td>2016-01-01 11:16:40</td>\n",
       "      <td>11</td>\n",
       "      <td>945</td>\n",
       "      <td>1</td>\n",
       "      <td>5</td>\n",
       "    </tr>\n",
       "    <tr>\n",
       "      <th>2</th>\n",
       "      <td>113442</td>\n",
       "      <td>2</td>\n",
       "      <td>2016-01-01 11:17:11.000</td>\n",
       "      <td>2016-01-01 11:17:21</td>\n",
       "      <td>11</td>\n",
       "      <td>1031</td>\n",
       "      <td>1</td>\n",
       "      <td>5</td>\n",
       "    </tr>\n",
       "    <tr>\n",
       "      <th>3</th>\n",
       "      <td>113442</td>\n",
       "      <td>2</td>\n",
       "      <td>2016-01-01 11:34:41.000</td>\n",
       "      <td>2016-01-01 11:34:53</td>\n",
       "      <td>11</td>\n",
       "      <td>2081</td>\n",
       "      <td>1</td>\n",
       "      <td>5</td>\n",
       "    </tr>\n",
       "    <tr>\n",
       "      <th>4</th>\n",
       "      <td>113442</td>\n",
       "      <td>5</td>\n",
       "      <td>2016-01-01 11:51:00.000</td>\n",
       "      <td>2016-01-01 12:00:36</td>\n",
       "      <td>11</td>\n",
       "      <td>3060</td>\n",
       "      <td>1</td>\n",
       "      <td>5</td>\n",
       "    </tr>\n",
       "  </tbody>\n",
       "</table>\n",
       "</div>"
      ],
      "text/plain": [
       "   REST_ID  TABLE SIZE              CREATE TIME          CHECKINTIME  \\\n",
       "0   113442           5  2016-01-01 11:09:19.000  2016-01-01 11:16:41   \n",
       "1   113442           4  2016-01-01 11:15:45.000  2016-01-01 11:16:40   \n",
       "2   113442           2  2016-01-01 11:17:11.000  2016-01-01 11:17:21   \n",
       "3   113442           2  2016-01-01 11:34:41.000  2016-01-01 11:34:53   \n",
       "4   113442           5  2016-01-01 11:51:00.000  2016-01-01 12:00:36   \n",
       "\n",
       "  TIME (HR)  TIME (SEC)  MONTH  DAY  \n",
       "0        11         559      1    5  \n",
       "1        11         945      1    5  \n",
       "2        11        1031      1    5  \n",
       "3        11        2081      1    5  \n",
       "4        11        3060      1    5  "
      ]
     },
     "execution_count": 149,
     "metadata": {},
     "output_type": "execute_result"
    }
   ],
   "source": [
    "df.head(5)"
   ]
  },
  {
   "cell_type": "code",
   "execution_count": 148,
   "metadata": {
    "collapsed": false
   },
   "outputs": [],
   "source": [
    "df[\"TIME (HR)\"] = df[\"CREATE TIME\"].apply(lambda a: a.split()[1].split(':')[0])\n",
    "df[\"TIME (SEC)\"] = df[\"CREATE TIME\"].apply(lambda a: int(int(a.split()[1].split(':')[1])*60 + float(a.split()[1].split(':')[2])))\n",
    "df[\"MONTH\"] = df[\"CREATE TIME\"].apply(lambda a: int(a.split()[0].split('-')[1]))\n",
    "df[\"DAY\"] = df[\"CREATE TIME\"].apply(lambda a: datetime.strptime(a, \"%Y-%m-%d %H:%M:%S.%f\").isoweekday() )"
   ]
  }
 ],
 "metadata": {
  "kernelspec": {
   "display_name": "Python 3",
   "language": "python",
   "name": "python3"
  },
  "language_info": {
   "codemirror_mode": {
    "name": "ipython",
    "version": 3
   },
   "file_extension": ".py",
   "mimetype": "text/x-python",
   "name": "python",
   "nbconvert_exporter": "python",
   "pygments_lexer": "ipython3",
   "version": "3.6.0"
  }
 },
 "nbformat": 4,
 "nbformat_minor": 2
}
